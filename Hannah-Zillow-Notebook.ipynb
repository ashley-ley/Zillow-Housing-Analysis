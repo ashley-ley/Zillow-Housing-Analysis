{
 "cells": [
  {
   "cell_type": "code",
   "execution_count": null,
   "id": "aad1f7a1-b6e2-4ba8-bb7b-c95db865c943",
   "metadata": {
    "tags": []
   },
   "outputs": [],
   "source": [
    "#import hvplot.pandas\n",
    "import pandas as pd\n",
    "import matplotlib.pyplot as plt \n",
    "import numpy as np\n",
    "%matplotlib notebook\n",
    "\n",
    "# Import API key\n",
    "#from api_key import geoapify_key"
   ]
  },
  {
   "cell_type": "code",
   "execution_count": 5,
   "id": "99376ebc-148f-440f-8fc4-9af56705dcd3",
   "metadata": {
    "tags": []
   },
   "outputs": [],
   "source": [
    "median_sale_path = \"Median_List_Price.csv\"\n",
    "\n",
    "median_sale_path_df = pd.read_csv(median_sale_path)"
   ]
  },
  {
   "cell_type": "markdown",
   "id": "2bd91bf0-8e7a-4fc8-aa30-cc157ed5000d",
   "metadata": {
    "tags": []
   },
   "source": [
    "Where are the most affordable places to live in the United States in 2023 based on median price?"
   ]
  },
  {
   "cell_type": "code",
   "execution_count": 6,
   "id": "503d8267-b93e-4958-ba73-41bc2259107e",
   "metadata": {
    "tags": []
   },
   "outputs": [
    {
     "name": "stderr",
     "output_type": "stream",
     "text": [
      "/var/folders/16/y_h1pm0n0vnc3q_20j94qf5c0000gn/T/ipykernel_90733/3707178139.py:5: FutureWarning: Dropping of nuisance columns in DataFrame reductions (with 'numeric_only=None') is deprecated; in a future version this will raise TypeError.  Select only valid columns before calling the reduction.\n",
      "  median_sale_path_2023_df['2023 Average Median Sales Price']=median_sale_path_2023_df.mean(axis='columns')\n",
      "/var/folders/16/y_h1pm0n0vnc3q_20j94qf5c0000gn/T/ipykernel_90733/3707178139.py:5: SettingWithCopyWarning: \n",
      "A value is trying to be set on a copy of a slice from a DataFrame.\n",
      "Try using .loc[row_indexer,col_indexer] = value instead\n",
      "\n",
      "See the caveats in the documentation: https://pandas.pydata.org/pandas-docs/stable/user_guide/indexing.html#returning-a-view-versus-a-copy\n",
      "  median_sale_path_2023_df['2023 Average Median Sales Price']=median_sale_path_2023_df.mean(axis='columns')\n"
     ]
    },
    {
     "data": {
      "text/html": [
       "<div>\n",
       "<style scoped>\n",
       "    .dataframe tbody tr th:only-of-type {\n",
       "        vertical-align: middle;\n",
       "    }\n",
       "\n",
       "    .dataframe tbody tr th {\n",
       "        vertical-align: top;\n",
       "    }\n",
       "\n",
       "    .dataframe thead th {\n",
       "        text-align: right;\n",
       "    }\n",
       "</style>\n",
       "<table border=\"1\" class=\"dataframe\">\n",
       "  <thead>\n",
       "    <tr style=\"text-align: right;\">\n",
       "      <th></th>\n",
       "      <th>RegionName</th>\n",
       "      <th>RegionType</th>\n",
       "      <th>StateName</th>\n",
       "      <th>2023-01-31</th>\n",
       "      <th>2023-02-28</th>\n",
       "      <th>2023-03-31</th>\n",
       "      <th>2023-04-30</th>\n",
       "      <th>2023-05-31</th>\n",
       "      <th>2023-06-30</th>\n",
       "      <th>2023 Average Median Sales Price</th>\n",
       "    </tr>\n",
       "  </thead>\n",
       "  <tbody>\n",
       "    <tr>\n",
       "      <th>0</th>\n",
       "      <td>United States</td>\n",
       "      <td>country</td>\n",
       "      <td>NaN</td>\n",
       "      <td>371900.0</td>\n",
       "      <td>371900.0</td>\n",
       "      <td>374833.0</td>\n",
       "      <td>383107.0</td>\n",
       "      <td>391107.0</td>\n",
       "      <td>397607.0</td>\n",
       "      <td>381742.333333</td>\n",
       "    </tr>\n",
       "    <tr>\n",
       "      <th>1</th>\n",
       "      <td>New York, NY</td>\n",
       "      <td>msa</td>\n",
       "      <td>NY</td>\n",
       "      <td>619333.0</td>\n",
       "      <td>624667.0</td>\n",
       "      <td>634967.0</td>\n",
       "      <td>647967.0</td>\n",
       "      <td>662633.0</td>\n",
       "      <td>672333.0</td>\n",
       "      <td>643650.000000</td>\n",
       "    </tr>\n",
       "    <tr>\n",
       "      <th>2</th>\n",
       "      <td>Los Angeles, CA</td>\n",
       "      <td>msa</td>\n",
       "      <td>CA</td>\n",
       "      <td>882633.0</td>\n",
       "      <td>885967.0</td>\n",
       "      <td>892967.0</td>\n",
       "      <td>916000.0</td>\n",
       "      <td>942667.0</td>\n",
       "      <td>975333.0</td>\n",
       "      <td>915927.833333</td>\n",
       "    </tr>\n",
       "    <tr>\n",
       "      <th>3</th>\n",
       "      <td>Chicago, IL</td>\n",
       "      <td>msa</td>\n",
       "      <td>IL</td>\n",
       "      <td>299300.0</td>\n",
       "      <td>302167.0</td>\n",
       "      <td>308833.0</td>\n",
       "      <td>319133.0</td>\n",
       "      <td>329500.0</td>\n",
       "      <td>336500.0</td>\n",
       "      <td>315905.500000</td>\n",
       "    </tr>\n",
       "    <tr>\n",
       "      <th>4</th>\n",
       "      <td>Dallas, TX</td>\n",
       "      <td>msa</td>\n",
       "      <td>TX</td>\n",
       "      <td>398000.0</td>\n",
       "      <td>396667.0</td>\n",
       "      <td>400150.0</td>\n",
       "      <td>411813.0</td>\n",
       "      <td>426480.0</td>\n",
       "      <td>438330.0</td>\n",
       "      <td>411906.666667</td>\n",
       "    </tr>\n",
       "  </tbody>\n",
       "</table>\n",
       "</div>"
      ],
      "text/plain": [
       "        RegionName RegionType StateName  2023-01-31  2023-02-28  2023-03-31  \\\n",
       "0    United States    country       NaN    371900.0    371900.0    374833.0   \n",
       "1     New York, NY        msa        NY    619333.0    624667.0    634967.0   \n",
       "2  Los Angeles, CA        msa        CA    882633.0    885967.0    892967.0   \n",
       "3      Chicago, IL        msa        IL    299300.0    302167.0    308833.0   \n",
       "4       Dallas, TX        msa        TX    398000.0    396667.0    400150.0   \n",
       "\n",
       "   2023-04-30  2023-05-31  2023-06-30  2023 Average Median Sales Price  \n",
       "0    383107.0    391107.0    397607.0                    381742.333333  \n",
       "1    647967.0    662633.0    672333.0                    643650.000000  \n",
       "2    916000.0    942667.0    975333.0                    915927.833333  \n",
       "3    319133.0    329500.0    336500.0                    315905.500000  \n",
       "4    411813.0    426480.0    438330.0                    411906.666667  "
      ]
     },
     "execution_count": 6,
     "metadata": {},
     "output_type": "execute_result"
    }
   ],
   "source": [
    "#Keep 2023 median sales prices\n",
    "median_sale_path_2023_df = median_sale_path_df[['RegionName','RegionType','StateName','2023-01-31', '2023-02-28', '2023-03-31', '2023-04-30', '2023-05-31', '2023-06-30']]\n",
    "\n",
    "#Create 2023 average median price\n",
    "median_sale_path_2023_df['2023 Average Median Sales Price']=median_sale_path_2023_df.mean(axis='columns')\n",
    "\n",
    "#Sort dataframe to show top ten affordable places to live\n",
    "\n",
    "#Print median sale prices dataframe\n",
    "median_sale_path_2023_df.head()"
   ]
  },
  {
   "cell_type": "code",
   "execution_count": 7,
   "id": "6f20c609-65c9-44f0-9101-afb807bdc9e4",
   "metadata": {
    "tags": []
   },
   "outputs": [
    {
     "name": "stderr",
     "output_type": "stream",
     "text": [
      "UsageError: Line magic function `%%capture` not found.\n"
     ]
    }
   ],
   "source": [
    "#Create a map that displays a point for every city in the `median_sales_path_2023_df` DataFrame. The size of the point should be the median price in each city.\n",
    "%%capture --no-display\n",
    "\n",
    "# Configure the map plot\n",
    "map_plot = median_sale_plot_2023_df.hvplot.points('RegionName',\n",
    "                                      geo = True,\n",
    "                                      size = '2023 Average Median Sales Price',\n",
    "                                      scale = 1,\n",
    "                                      color = 'City',\n",
    "                                      alpha = 0.5,\n",
    "                                      tiles = 'OSM',\n",
    "                                      frame_width = 700,\n",
    "                                      frame_height = 500)\n",
    "\n",
    "# Display the map\n",
    "map_plot"
   ]
  },
  {
   "cell_type": "code",
   "execution_count": null,
   "id": "42046490-205b-4854-8f8e-7eb5caa4b6e2",
   "metadata": {},
   "outputs": [],
   "source": [
    "#Do something with salary ranges based on “Teacher”,”Data Scientist”,etc "
   ]
  }
 ],
 "metadata": {
  "kernelspec": {
   "display_name": "Python 3 (ipykernel)",
   "language": "python",
   "name": "python3"
  },
  "language_info": {
   "codemirror_mode": {
    "name": "ipython",
    "version": 3
   },
   "file_extension": ".py",
   "mimetype": "text/x-python",
   "name": "python",
   "nbconvert_exporter": "python",
   "pygments_lexer": "ipython3",
   "version": "3.10.11"
  }
 },
 "nbformat": 4,
 "nbformat_minor": 5
}
