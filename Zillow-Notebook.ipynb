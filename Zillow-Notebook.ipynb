{
 "cells": [
  {
   "cell_type": "code",
   "execution_count": 1,
   "id": "f34c5eaa-82b8-475d-a89b-d7e3a4cb8fdb",
   "metadata": {
    "tags": []
   },
   "outputs": [],
   "source": [
    "import pandas as pd\n",
    "import matplotlib.pyplot as plt \n",
    "import numpy as np\n",
    "%matplotlib notebook"
   ]
  },
  {
   "cell_type": "code",
   "execution_count": null,
   "id": "0c19262c-0c0b-4e4f-b2d7-ac70740a07eb",
   "metadata": {
    "tags": []
   },
   "outputs": [],
   "source": [
    "for_sale_path = \"For_Sale_Inventory.csv\"\n",
    "median_list_path = \"Median_List_Price.csv\"\n",
    "median_sale_path = \"Median_List_Price.csv\"\n",
    "\n",
    "for_sale_inventory_df = pd.read_csv(for_sale_path)\n",
    "median_list_path_df = pd.read_csv(median_list_path)\n",
    "median_sale_path_df = pd.read_csv(median_sale_path)"
   ]
  },
  {
   "cell_type": "markdown",
   "id": "a7e41c83-a73b-4260-a4cd-5dec0b4f8012",
   "metadata": {},
   "source": [
    "Housing Inventory: How has the housing inventory fluctuated since pre-pandemic times?"
   ]
  },
  {
   "cell_type": "code",
   "execution_count": null,
   "id": "60e52302-78d1-41cb-b258-6af31e35ce48",
   "metadata": {
    "tags": []
   },
   "outputs": [],
   "source": [
    "region_df = for_sale_inventory_df.rename(columns={\"2018-03-31\":\"March 2018\",\n",
    "                                                              \"2019-03-31\":\"March 2019\",\n",
    "                                                              \"2020-03-31\":\"March 2020\",\n",
    "                                                              \"2021-03-31\":\"March 2021\",\n",
    "                                                              \"2022-03-31\":\"March 2022\",\n",
    "                                                              \"2023-03-31\":\"March 2023\"})\n",
    "housing_inventory = region_df[[\"RegionID\",\"RegionName\",\"RegionType\",\"StateName\",\n",
    "                                           \"March 2018\",\"March 2019\",\"March 2020\",\"March 2021\",\n",
    "                                           \"March 2022\",\"March 2023\"]].copy()\n",
    "housing_inventory   "
   ]
  },
  {
   "cell_type": "code",
   "execution_count": null,
   "id": "dadfb2b1-5843-4124-b2e5-5f1231efd1eb",
   "metadata": {},
   "outputs": [],
   "source": [
    "homes_in_austin_tx = for_sale_inventory_df.loc[for_sale_inventory_df[\"RegionName\"] == \"Austin, TX\"]\n",
    "homes_in_omaha_ne = for_sale_inventory_df.loc[for_sale_inventory_df[\"RegionName\"] == \"Omaha, NE\"]\n",
    "homes_in_chicago_il = for_sale_inventory_df.loc[for_sale_inventory_df[\"RegionName\"] == \"Chicago, IL\"]\n",
    "homes_in_ny_ny = for_sale_inventory_df.loc[for_sale_inventory_df[\"RegionName\"] == \"New York, NY\"]\n",
    "homes_in_la_ca = for_sale_inventory_df.loc[for_sale_inventory_df[\"RegionName\"] == \"Los Angeles, CA\"]\n",
    "\n",
    "comparison_of_inventory = pd.DataFrame"
   ]
  },
  {
   "cell_type": "markdown",
   "id": "1eb8e566-8064-4a80-9906-e6f9c5485bd1",
   "metadata": {},
   "source": [
    "How has the Pandemic impacted Home Sale Prices from 2018-2023 and how have home prices changed since the beginning of the pandemic? Which city/cities saw the greatest rate of increase in price? "
   ]
  },
  {
   "cell_type": "code",
   "execution_count": null,
   "id": "366e235b-dde6-4a82-acfb-83b2fd6122ef",
   "metadata": {},
   "outputs": [],
   "source": [
    "def calculate_rate_of_increase(prices):\n",
    "    return (prices.iloc[-1] - prices.iloc[0]) / prices.iloc[0] * 100\n",
    "\n"
   ]
  },
  {
   "cell_type": "code",
   "execution_count": null,
   "id": "d53b10d8-491c-4579-b2fa-6674953f32ed",
   "metadata": {},
   "outputs": [],
   "source": [
    "city_groups = df.groupby('RegionName')['Price'].apply(calculate_rate_of_increase)"
   ]
  },
  {
   "cell_type": "markdown",
   "id": "5e2269ea-a036-40d7-ba93-94957f7d7301",
   "metadata": {},
   "source": [
    "List vs. Sold Listing prices that are currently available in the US?"
   ]
  },
  {
   "cell_type": "code",
   "execution_count": null,
   "id": "bb7e6ca2-ff27-4ce7-8534-830d17a23d80",
   "metadata": {
    "jupyter": {
     "source_hidden": true
    },
    "tags": []
   },
   "outputs": [],
   "source": []
  },
  {
   "cell_type": "markdown",
   "id": "6ed626bd-3740-4bab-adb2-d3db0585cb82",
   "metadata": {
    "tags": []
   },
   "source": [
    "Where are the most affordable places to live in the United States in 2023 based on median price?"
   ]
  },
  {
   "cell_type": "code",
   "execution_count": 4,
   "id": "fe14764a-26b3-4437-8b7e-408e90d660f5",
   "metadata": {
    "tags": []
   },
   "outputs": [
    {
     "ename": "NameError",
     "evalue": "name 'median_sale_path' is not defined",
     "output_type": "error",
     "traceback": [
      "\u001b[0;31m---------------------------------------------------------------------------\u001b[0m",
      "\u001b[0;31mNameError\u001b[0m                                 Traceback (most recent call last)",
      "Cell \u001b[0;32mIn[4], line 2\u001b[0m\n\u001b[1;32m      1\u001b[0m \u001b[38;5;66;03m#Import median sale prices dataframe\u001b[39;00m\n\u001b[0;32m----> 2\u001b[0m median_sale_path_df \u001b[38;5;241m=\u001b[39m pd\u001b[38;5;241m.\u001b[39mread_csv(\u001b[43mmedian_sale_path\u001b[49m)\n\u001b[1;32m      4\u001b[0m \u001b[38;5;66;03m#Keep 2023 median sales prices\u001b[39;00m\n\u001b[1;32m      5\u001b[0m median_sale_path_2023_df \u001b[38;5;241m=\u001b[39m median_sale_path_df[[\u001b[38;5;124m'\u001b[39m\u001b[38;5;124mRegionName\u001b[39m\u001b[38;5;124m'\u001b[39m,\u001b[38;5;124m'\u001b[39m\u001b[38;5;124mRegion Type\u001b[39m\u001b[38;5;124m'\u001b[39m,\u001b[38;5;124m'\u001b[39m\u001b[38;5;124mStateName\u001b[39m\u001b[38;5;124m'\u001b[39m,\u001b[38;5;124m'\u001b[39m\u001b[38;5;124m2023-01-31\u001b[39m\u001b[38;5;124m'\u001b[39m, \u001b[38;5;124m'\u001b[39m\u001b[38;5;124m2023-02-28\u001b[39m\u001b[38;5;124m'\u001b[39m, \u001b[38;5;124m'\u001b[39m\u001b[38;5;124m2023-03-31\u001b[39m\u001b[38;5;124m'\u001b[39m, \u001b[38;5;124m'\u001b[39m\u001b[38;5;124m2023-04-30\u001b[39m\u001b[38;5;124m'\u001b[39m, \u001b[38;5;124m'\u001b[39m\u001b[38;5;124m2023-05-31\u001b[39m\u001b[38;5;124m'\u001b[39m, \u001b[38;5;124m'\u001b[39m\u001b[38;5;124m2023-06-30\u001b[39m\u001b[38;5;124m'\u001b[39m]]\n",
      "\u001b[0;31mNameError\u001b[0m: name 'median_sale_path' is not defined"
     ]
    }
   ],
   "source": [
    "#Keep 2023 median sales prices\n",
    "median_sale_path_2023_df = median_sale_path_df[['RegionName','Region Type','StateName','2023-01-31', '2023-02-28', '2023-03-31', '2023-04-30', '2023-05-31', '2023-06-30']]\n",
    "\n",
    "#Sort dataframe to show top ten affordable places to live\n",
    "#Print median sale prices dataframe\n",
    "median_sale_path_2023_df.head()"
   ]
  },
  {
   "cell_type": "code",
   "execution_count": null,
   "id": "8b5c6b6c-014d-4496-b480-7addcb582045",
   "metadata": {
    "tags": []
   },
   "outputs": [],
   "source": [
    "#Do something with salary ranges based on “Teacher”,”Data Scientist”,etc \n",
    "#Avg american salary and Geoapify scale based on 2-3 salary ranges \n",
    "0-200,000 | 200,000-400,000 | etc"
   ]
  },
  {
   "cell_type": "code",
   "execution_count": null,
   "id": "0260f8f5-ffe2-4fa0-a151-d4d81b0878ff",
   "metadata": {},
   "outputs": [],
   "source": []
  }
 ],
 "metadata": {
  "kernelspec": {
   "display_name": "Python 3 (ipykernel)",
   "language": "python",
   "name": "python3"
  },
  "language_info": {
   "codemirror_mode": {
    "name": "ipython",
    "version": 3
   },
   "file_extension": ".py",
   "mimetype": "text/x-python",
   "name": "python",
   "nbconvert_exporter": "python",
   "pygments_lexer": "ipython3",
   "version": "3.10.11"
  }
 },
 "nbformat": 4,
 "nbformat_minor": 5
}
