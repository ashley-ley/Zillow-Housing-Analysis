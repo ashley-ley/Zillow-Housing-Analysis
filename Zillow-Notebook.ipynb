{
 "cells": [
  {
   "cell_type": "code",
   "execution_count": 1,
   "id": "f34c5eaa-82b8-475d-a89b-d7e3a4cb8fdb",
   "metadata": {
    "tags": []
   },
   "outputs": [],
   "source": [
    "import pandas as pd"
   ]
  },
  {
   "cell_type": "code",
   "execution_count": 8,
   "id": "0c19262c-0c0b-4e4f-b2d7-ac70740a07eb",
   "metadata": {
    "tags": []
   },
   "outputs": [],
   "source": [
    "for_sale_path = \"For_Sale_Inventory.csv\"\n",
    "median_list_path = \"Median_List_Price.csv\"\n",
    "median_sale_path = \"Median_List_Price.csv\"\n",
    "\n",
    "for_sale_inventory_df = pd.read_csv(for_sale_path)\n",
    "median_list_path_df = pd.read_csv(median_list_path)\n",
    "median_sale_path_df = pd.read_csv(median_sale_path)"
   ]
  }
 ],
 "metadata": {
  "kernelspec": {
   "display_name": "Python 3 (ipykernel)",
   "language": "python",
   "name": "python3"
  },
  "language_info": {
   "codemirror_mode": {
    "name": "ipython",
    "version": 3
   },
   "file_extension": ".py",
   "mimetype": "text/x-python",
   "name": "python",
   "nbconvert_exporter": "python",
   "pygments_lexer": "ipython3",
   "version": "3.10.11"
  }
 },
 "nbformat": 4,
 "nbformat_minor": 5
}
