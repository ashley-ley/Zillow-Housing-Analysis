{
 "cells": [
  {
   "cell_type": "code",
   "execution_count": null,
   "id": "f34c5eaa-82b8-475d-a89b-d7e3a4cb8fdb",
   "metadata": {
    "tags": []
   },
   "outputs": [],
   "source": [
    "import pandas as pd\n",
    "import matplotlib.pyplot as plt \n",
    "import numpy as np\n",
    "%matplotlib inline"
   ]
  },
  {
   "cell_type": "code",
   "execution_count": null,
   "id": "0c19262c-0c0b-4e4f-b2d7-ac70740a07eb",
   "metadata": {
    "tags": []
   },
   "outputs": [],
   "source": [
    "for_sale_path = \"For_Sale_Inventory.csv\"\n",
    "median_list_path = \"Median_List_Price.csv\"\n",
    "median_sale_path = \"Median_Sale_Price.csv\"\n",
    "\n",
    "for_sale_inventory_df = pd.read_csv(for_sale_path)\n",
    "median_list_path_df = pd.read_csv(median_list_path)\n",
    "median_sale_path_df = pd.read_csv(median_sale_path)"
   ]
  },
  {
   "cell_type": "code",
   "execution_count": null,
   "id": "60e52302-78d1-41cb-b258-6af31e35ce48",
   "metadata": {
    "tags": []
   },
   "outputs": [],
   "source": [
    "#How has the Pandemic impacted Home Sale Prices from 2018-2023 and how have home prices changed since the beginning of the pandemic?"
   ]
  },
  {
   "cell_type": "code",
   "execution_count": null,
   "id": "d80eb191-fb06-42b7-a085-407b63ad3873",
   "metadata": {
    "tags": []
   },
   "outputs": [],
   "source": [
    "median_list_path_df = median_list_path_df.rename(columns={\"2018-03-31\":\"March 2018\",\n",
    "                                                              \"2019-03-31\":\"March 2019\",\n",
    "                                                              \"2020-03-31\":\"March 2020\",\n",
    "                                                              \"2021-03-31\":\"March 2021\",\n",
    "                                                              \"2022-03-31\":\"March 2022\",\n",
    "                                                              \"2023-03-31\":\"March 2023\"})\n",
    "median_list_prices = median_list_path_df[[\"RegionName\",\n",
    "                                           \"March 2018\",\"March 2019\",\"March 2020\",\"March 2021\",\n",
    "                                           \"March 2022\",\"March 2023\"]].copy()\n",
    "median_list_prices"
   ]
  },
  {
   "cell_type": "code",
   "execution_count": null,
   "id": "85fa7b9c-5709-44be-b85e-863d7e3d1dbc",
   "metadata": {
    "tags": []
   },
   "outputs": [],
   "source": [
    "# Make a DataFrame using the loc function to find specific cities \n",
    "homes_list_comparison = median_list_prices.loc[(median_list_prices[\"RegionName\"] == \"Austin, TX\") |\n",
    "                                               (median_list_prices[\"RegionName\"] == \"Omaha, NE\") |\n",
    "                                               (median_list_prices[\"RegionName\"] == \"Chicago, IL\") |\n",
    "                                               (median_list_prices[\"RegionName\"] == \"New York, NY\") |\n",
    "                                               (median_list_prices[\"RegionName\"] == \"Los Angeles, CA\")\n",
    "                                               ]\n",
    "\n",
    "homes_list_comparison\n"
   ]
  },
  {
   "cell_type": "code",
   "execution_count": null,
   "id": "8b010cb9-24d4-45fc-93d1-1ab8efab9e1e",
   "metadata": {
    "tags": []
   },
   "outputs": [],
   "source": [
    "df_T=homes_list_comparison.T.reset_index()\n",
    "df_T = pd.DataFrame(df_T.values[1:], columns=df_T. iloc[0]).set_index(\"RegionName\")\n",
    "df_T"
   ]
  },
  {
   "cell_type": "code",
   "execution_count": null,
   "id": "aa023b70-1e86-47c7-b602-6df189ad687f",
   "metadata": {
    "tags": []
   },
   "outputs": [],
   "source": [
    "#plt.figure(figsize =(20, 10))\n",
    "df_T.plot()\n",
    "plt.xlabel(\"Month/Year\")\n",
    "plt.ylabel(\"Median List House Price($)\")\n",
    "plt.xticks(rotation =45)\n",
    "plt.legend(bbox_to_anchor=(1.0, 1.0))\n",
    "plt.savefig(\"Output/Median_House_List_Prices.png\")\n",
    "plt.show()"
   ]
  },
  {
   "cell_type": "code",
   "execution_count": null,
   "id": "a511da87-a2c0-4a5a-b913-77dfd5c1eddb",
   "metadata": {},
   "outputs": [],
   "source": []
  }
 ],
 "metadata": {
  "kernelspec": {
   "display_name": "Python 3 (ipykernel)",
   "language": "python",
   "name": "python3"
  },
  "language_info": {
   "codemirror_mode": {
    "name": "ipython",
    "version": 3
   },
   "file_extension": ".py",
   "mimetype": "text/x-python",
   "name": "python",
   "nbconvert_exporter": "python",
   "pygments_lexer": "ipython3",
   "version": "3.10.11"
  }
 },
 "nbformat": 4,
 "nbformat_minor": 5
}
