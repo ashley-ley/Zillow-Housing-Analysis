{
 "cells": [
  {
   "cell_type": "code",
   "execution_count": null,
   "id": "932f1584-4bd2-4fe6-9205-3c99dbcbf438",
   "metadata": {},
   "outputs": [],
   "source": [
    "#housing_dates = pd.to_datetime(complete_housing_inventory\n",
    "\n",
    "#.dt.strftime(%Y-%m-%d)\n",
    "complete_housing_inventory = pd.to_datetime(complete_housing_inventory.columns[5:])\n",
    "\n",
    "#complete_housing_inventory.columns[5:] = pd.to_datetime(complete_housing_inventory)"
   ]
  }
 ],
 "metadata": {
  "kernelspec": {
   "display_name": "Python 3 (ipykernel)",
   "language": "python",
   "name": "python3"
  },
  "language_info": {
   "codemirror_mode": {
    "name": "ipython",
    "version": 3
   },
   "file_extension": ".py",
   "mimetype": "text/x-python",
   "name": "python",
   "nbconvert_exporter": "python",
   "pygments_lexer": "ipython3",
   "version": "3.10.11"
  }
 },
 "nbformat": 4,
 "nbformat_minor": 5
}
